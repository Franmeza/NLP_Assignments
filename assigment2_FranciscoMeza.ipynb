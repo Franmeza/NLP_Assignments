{
 "cells": [
  {
   "cell_type": "code",
   "execution_count": 1,
   "id": "ecd159d2",
   "metadata": {},
   "outputs": [],
   "source": [
    "# Requiered imports\n",
    "import pandas as pd\n",
    "import re\n",
    "import nltk\n",
    "from nltk.corpus import stopwords\n",
    "from nltk.tokenize import word_tokenize\n",
    "from nltk.stem import WordNetLemmatizer"
   ]
  },
  {
   "cell_type": "markdown",
   "id": "1543eca1",
   "metadata": {},
   "source": [
    "# 1. Dataset Description\n",
    "\n",
    "The dataset amazon.csv from Kaggle (https://www.kaggle.com/datasets/mahmudulhaqueshawon/amazon-product-reviews) contains customer reviews from Amazon, along with a sentiment label for each review. It consists of approximately 20,000 entries, with two columns: Text (the review content) and label (the sentiment, where 1 typically represents positive and 0 represents negative)."
   ]
  },
  {
   "cell_type": "code",
   "execution_count": null,
   "id": "fe4c5a09",
   "metadata": {},
   "outputs": [],
   "source": [
    "# Load the dataset\n",
    "df = pd.read_csv('../data/amazon.csv')"
   ]
  }
 ],
 "metadata": {
  "kernelspec": {
   "display_name": "assignments_nlp (3.12.4)",
   "language": "python",
   "name": "python3"
  },
  "language_info": {
   "codemirror_mode": {
    "name": "ipython",
    "version": 3
   },
   "file_extension": ".py",
   "mimetype": "text/x-python",
   "name": "python",
   "nbconvert_exporter": "python",
   "pygments_lexer": "ipython3",
   "version": "3.12.4"
  }
 },
 "nbformat": 4,
 "nbformat_minor": 5
}
